{
 "cells": [
  {
   "cell_type": "code",
   "execution_count": null,
   "id": "25f76380-e5c0-43c3-a948-623938205b03",
   "metadata": {},
   "outputs": [
    {
     "name": "stdout",
     "output_type": "stream",
     "text": [
      "[############################# ]\n",
      "[############################# ]\n",
      "[#################             ]\r"
     ]
    }
   ],
   "source": [
    "from pygame import mixer\n",
    "import time\n",
    "mixer.init() \n",
    "# Loading the song \n",
    "mixer.music.load(\"kalimba-hit-note-low-c-2_C_minor.wav\") \n",
    "# Setting the volume \n",
    "mixer.music.set_volume(0.2) \n",
    "\n",
    "def ding():\n",
    "    # Play the sound\n",
    "    mixer.music.play() \n",
    "\n",
    "# Function to display a progress bar\n",
    "def progress_bar(progress, total):\n",
    "  bar_length = 30  # Adjust length as needed\n",
    "  filled_length = int(round(bar_length * (progress / total)))\n",
    "  remaining_length = bar_length - filled_length\n",
    "  print(\"[\" + \"#\" * filled_length + \" \" * remaining_length + \"]\", end=\"\\r\")\n",
    "\n",
    "# Set the interval and number of loops\n",
    "interval = 30  # seconds\n",
    "num_loops = 10\n",
    "\n",
    "for i in range(num_loops):\n",
    "  # Update progress bar for each loop iteration\n",
    "  ding()\n",
    "  for j in range(interval):\n",
    "    progress_bar(j, interval)\n",
    "    time.sleep(1)  # Update bar every second\n",
    "  \n",
    "  print()  # Print newline after each loop\n",
    "\n",
    "# Clear the progress bar line after completion\n",
    "print(\"\\r\" + \" \" * bar_length, end=\"\")"
   ]
  },
  {
   "cell_type": "code",
   "execution_count": null,
   "id": "daf37e1f-ccbd-4bf2-a0e5-d0b00793f1f0",
   "metadata": {},
   "outputs": [],
   "source": []
  }
 ],
 "metadata": {
  "kernelspec": {
   "display_name": "Python 3 (ipykernel)",
   "language": "python",
   "name": "python3"
  },
  "language_info": {
   "codemirror_mode": {
    "name": "ipython",
    "version": 3
   },
   "file_extension": ".py",
   "mimetype": "text/x-python",
   "name": "python",
   "nbconvert_exporter": "python",
   "pygments_lexer": "ipython3",
   "version": "3.12.3"
  }
 },
 "nbformat": 4,
 "nbformat_minor": 5
}
